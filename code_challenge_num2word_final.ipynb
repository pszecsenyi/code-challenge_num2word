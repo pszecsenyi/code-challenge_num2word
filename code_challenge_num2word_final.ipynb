{
 "cells": [
  {
   "cell_type": "markdown",
   "metadata": {},
   "source": [
    "## Code challenge - num2word\n",
    "\n",
    "I am using Jupyter Notebook to solve this task, mainly for 2 reasons.\n",
    "\n",
    "- I like how one can run segments of the code in separate cells. This helps people new to python in that it is easy to play around with the code.\n",
    "- I also like how one can comment on the flow of the script, explain assumptions, etc.."
   ]
  },
  {
   "cell_type": "markdown",
   "metadata": {},
   "source": [
    "### Read input from txt file\n",
    "- User can select input file in pop-up dialog box, for ease of everyday use of the app. Alternatively, type filename in the code below if the user dialog fails.\n",
    "- The code puts every line of input in a list separately. This starting format will help later for generating auditable outputs."
   ]
  },
  {
   "cell_type": "code",
   "execution_count": 1,
   "metadata": {},
   "outputs": [],
   "source": [
    "# prompt user to select input file from pop-up window\n",
    "from tkinter import Tk, filedialog\n",
    "root = Tk()\n",
    "root.withdraw()\n",
    "root.attributes('-topmost',True)\n",
    "filename = filedialog.askopenfilename(parent=root)\n",
    "\n",
    "# edit input filename manually if user dialog fails\n",
    "if filename == '':\n",
    "    filename = 'Test input.txt' # <<-- add filename of inputs stored in same folder with this notebook or add full path for files stored elsewhere\n",
    "\n",
    "# read input file line by line, and put every line in a list as a separate item\n",
    "with open(filename, 'r') as f:\n",
    "    lines = [line.rstrip() for line in f]"
   ]
  },
  {
   "cell_type": "markdown",
   "metadata": {},
   "source": [
    "### Functions\n",
    "I will build a few functions first to take care of the core tasks: process lines of input text and convert numbers to words. Then I will use the functions via a loop to generate final outputs."
   ]
  },
  {
   "cell_type": "markdown",
   "metadata": {},
   "source": [
    "#### Function #1: number to word converter\n",
    "- Input: integer \n",
    "- Output: number spelled out in words \n",
    "- Based on expected outputs provided in the exercise, I built the function in such a way that it will return words according to British grammar, hence the few 'if' checks in the second function below.\n",
    "- Function design: Numbers in word format are essentially combinations of a finite set of building blocks. There is one overarching pattern: you always have hundreds, twenties and ones, which are combined with thousands, millions, billions, etc: one new 'type' for every additional 3 digits. But the hundreds, twenties and ones always come back and we always write them the same way. Therefore one idea to construct the function is to build one subfunction num000 that spells out the hundreds, twenties and ones correctly and another subfunction num2word that loops over num000 to bring in the additional layer of thousands, millions, billions, etc.. depending on the original input."
   ]
  },
  {
   "cell_type": "code",
   "execution_count": 2,
   "metadata": {},
   "outputs": [],
   "source": [
    "# building blocks of words in lists\n",
    "ones = ['','one','two','three','four','five','six','seven','eight','nine','ten','eleven','twelve','thirteen','fourteen','fifteen','sixteen','seventeen','eighteen','nineteen']  \n",
    "twenties = ['','','twenty','thirty','forty','fifty','sixty','seventy','eighty','ninety'] \n",
    "thousands = ['','thousand','million','billion','trillion','quadrillion','quintillion','sextillion']  # every word in this list adds '000. Can add more if need to deal with very large numbers\n",
    "\n",
    "# num000 takes a number, zooms on the last 3 digits, and spells those out \n",
    "\n",
    "def num000(n): \n",
    "    c = n % 10 # single digit \n",
    "    b = ((n % 100) - c) // 10 # tens digit \n",
    "    a = ((n % 1000) - (b * 10) - c) // 100 # hundreds digit \n",
    "    t = \"\" \n",
    "    h = \"\" \n",
    "    if a != 0 and b == 0 and c == 0: \n",
    "        t = ones[a] + \" hundred\" \n",
    "    elif a != 0: \n",
    "        t = ones[a] + \" hundred and \" \n",
    "    if b <= 1: \n",
    "        h = ones[n%100] \n",
    "    elif b > 1 and c == 0: \n",
    "        h = twenties[b] + ones[c]\n",
    "    elif b > 1 and c != 0:\n",
    "        h = twenties[b] + '-' + ones[c]\n",
    "    st = t + h \n",
    "    return st \n",
    "\n",
    "\n",
    "# num2word looks at the number and creates a loop for every additional three digits \n",
    "# i.e. input > 999 num2word will loop 2 times, input > 999,999 num2 word will loop 3 times\n",
    "# every time referring back to num000 for the correct spelling of the 3 new digits and adding another layer from the 'thousands' list\n",
    "# this process splits up the inputs into 3-digit groups and every step in the loop (k+1) takes care of one group of xxx (3 digits)\n",
    "# note that n and nxxx recalculate at every step in below, and when n becomes '', there is no more digits, so the loop is finished (i+1)\n",
    "\n",
    "def num2word(num): \n",
    "    if num == 0: return 'zero' \n",
    "    i = 3 \n",
    "    n = str(num) \n",
    "    word = \"\" \n",
    "    k = 0 \n",
    "    while(i == 3): \n",
    "        nxxx = n[-i:] \n",
    "        n = n[:-i] \n",
    "        if int(nxxx) == 0: \n",
    "            word = word \n",
    "        else:  # I create a few different if checks to handle the ',' and 'and' according to British grammar \n",
    "            if k == 0 and int(nxxx) < 100 and n != '': \n",
    "                word = ' and ' + num000(int(nxxx))\n",
    "            elif k == 0 and int(nxxx) >= 100 and n != '':\n",
    "                word = ', ' + num000(int(nxxx))\n",
    "            elif k==0:\n",
    "                word = num000(int(nxxx))\n",
    "            elif k == 1: \n",
    "                word = num000(int(nxxx)) + ' ' + thousands[k] + word\n",
    "            else:\n",
    "                if word == '' or word[:1] == ',' or word[:5] == ' and ' :\n",
    "                    word = num000(int(nxxx)) + ' ' + thousands[k] + word\n",
    "                else:\n",
    "                    word = num000(int(nxxx)) + ' ' + thousands[k] + ', ' + word\n",
    "        if n == '': \n",
    "            i = i+1 \n",
    "        k += 1  # every k is '000 jump, i.e. every k is one step in the loop\n",
    "    return word"
   ]
  },
  {
   "cell_type": "markdown",
   "metadata": {},
   "source": [
    "#### Function #2: text splitter\n",
    "- Input: 1 line of text\n",
    "- Output: list of words & numbers that can be easily processed further ('tokens')\n",
    "- The function splits by whitespace and removes sentence ending signs to make sure we can capture proper numbers that are finishing a sentence in a text."
   ]
  },
  {
   "cell_type": "code",
   "execution_count": 3,
   "metadata": {},
   "outputs": [],
   "source": [
    "def splitter(line):\n",
    "    splitted = []\n",
    "    for i in range(len(line.split())):\n",
    "        if line.split()[i][-1:] in ['.',',',';','?','!']:\n",
    "            splitted.append(line.split()[i][:-1]) \n",
    "        else:\n",
    "            splitted.append(line.split()[i])\n",
    "    return splitted"
   ]
  },
  {
   "cell_type": "markdown",
   "metadata": {},
   "source": [
    "#### Function #3: result generator\n",
    "- Input: list of words & numbers (output from splitter function)\n",
    "- Output: dictionary of identified numbers in the list (both valid and invalid), AND corresponding outputs per below  \n",
    "- The function checks the words ('tokens') one by one and does the following.\n",
    " - Ignores pure text/string.\n",
    " - Identifies proper whole numbers, and converts them to words with num2word function.\n",
    " - Identifies invalid numbers, returns 'number invalid'. I defined these as a mix of numbers and text or other special characters. I also put the numbers that start with 0 into this category, because my working assumption was that those typically represent serial number type numbers as opposed to quantities. This could be an area for development of course.\n",
    "- For input lines that include more than one number or invalid number, I want to capture all of them and generate outputs for all of them for completeness.\n",
    "- ADDITION: I improved the original task by capturing numbers that start with +/- sign and converting these to words too with a 'positive/negative' starting word. In markets, people sometimes write things like '+50 OAS', so I consider this an easy win in terms of improvements.\n",
    "\n",
    "Note: For inputs such as 'I received 23 456,9 KGs.', I assumed it is fine to see two outputs, one for '23' and one for '456,9'. This approach keeps the code simpler and it works for many other similar inputs too where you have more than one number next to each other or a number and a serial number of an item for example. This approach could be developed further by examining whether such pairs of numbers are meant to be one number (with whitespace between thousands) or two separate numbers, depending on context. That is an area for development. "
   ]
  },
  {
   "cell_type": "code",
   "execution_count": 4,
   "metadata": {},
   "outputs": [],
   "source": [
    "def result(splitted):\n",
    "    results = {}\n",
    "    for i in range(len(splitted)):\n",
    "        if splitted[i][:1] == '0':\n",
    "            results[splitted[i]] = 'invalid number'\n",
    "        elif splitted[i].isdigit():\n",
    "            results[splitted[i]] = num2word(splitted[i])\n",
    "        elif splitted[i][:1] == '+' and splitted[i][1:].isdigit():\n",
    "            results[splitted[i]] = 'positive ' + num2word(splitted[i][1:])\n",
    "        elif splitted[i][:1] == '-' and splitted[i][1:].isdigit():\n",
    "            results[splitted[i]] = 'negative ' + num2word(splitted[i][1:])    \n",
    "        elif any(x.isnumeric() for x in splitted[i]):\n",
    "            results[splitted[i]] = 'invalid number' \n",
    "    return results"
   ]
  },
  {
   "cell_type": "markdown",
   "metadata": {},
   "source": [
    "### Loop to build a dictionary of inputs & final outputs\n",
    "- Goal # 1: be able to provide simple outputs as it was requested. i.e. simply writing down the numbers in words.\n",
    "- Goal # 2: put original inputs and corresponding outputs in one data container in an intuitive way, so inputs and outputs are easily auditable even for bigger inputs.\n",
    "- Format that will help reach above goals: dictionary"
   ]
  },
  {
   "cell_type": "code",
   "execution_count": 5,
   "metadata": {},
   "outputs": [],
   "source": [
    "# I put every line into splitter function and maintain the input & output pairs via building a dictionary of them\n",
    "splitted_dict = {}\n",
    "for i in range(len(lines)):\n",
    "    splitted_dict[lines[i]] = splitter(lines[i])\n",
    "\n",
    "# I put every list of splitted input lines into result generator function and maintain the original input lines paired with all outputs via dictionary\n",
    "results_dict = {}\n",
    "for i in splitted_dict.keys():\n",
    "    results_dict[i] = result(splitted_dict[i])"
   ]
  },
  {
   "cell_type": "markdown",
   "metadata": {},
   "source": [
    "### Output\n",
    "- Python's print function is stdout, as requested.\n",
    "- Two sections: 1) simple output; 2) line-by-line input & output pairs to enhance testing, auditing and further development.\n",
    "- Some whitespace in between to help the eye. \n",
    "- Output can be formatted in a lot of different ways depending on what this is used for exactly. Here I assumed we are primarily interested in checking if the main functionalities and text processing all work properly."
   ]
  },
  {
   "cell_type": "code",
   "execution_count": 6,
   "metadata": {},
   "outputs": [
    {
     "name": "stdout",
     "output_type": "stream",
     "text": [
      "OUTPUT:\n",
      "five hundred and thirty-six\n",
      "nine thousand, one hundred and twenty-one\n",
      "invalid number\n",
      "ten thousand and twenty-two\n",
      "sixty-six billion, seven hundred and twenty-three million, one hundred and seven thousand and eight\n",
      "twenty-three\n",
      "invalid number\n",
      "negative forty-eight\n",
      "positive two hundred and fifty\n",
      "positive one hundred and seventy-five\n",
      "eighty billion, five hundred and thirty-two million, six hundred and fifty thousand\n",
      "\n",
      "\n",
      "INPUTS & OUTPUTS FOR AUDITING:\n",
      "The pump is 536 deep underground.\n",
      "{'536': 'five hundred and thirty-six'}\n",
      "\n",
      "We processed 9121 records.\n",
      "{'9121': 'nine thousand, one hundred and twenty-one'}\n",
      "\n",
      "Variables reported as having a missing type #65678.\n",
      "{'#65678': 'invalid number'}\n",
      "\n",
      "Interactive and printable 10022 ZIP code.\n",
      "{'10022': 'ten thousand and twenty-two'}\n",
      "\n",
      "The database has 66723107008 records.\n",
      "{'66723107008': 'sixty-six billion, seven hundred and twenty-three million, one hundred and seven thousand and eight'}\n",
      "\n",
      "I received 23 456,9 KGs.\n",
      "{'23': 'twenty-three', '456,9': 'invalid number'}\n",
      "\n",
      "HUF swaps can trade at -48 bps spread compared to govies.\n",
      "{'-48': 'negative forty-eight'}\n",
      "\n",
      "+250 OAS is pretty good for BBB risk.\n",
      "{'+250': 'positive two hundred and fifty'}\n",
      "\n",
      "YTD alpha (bps): +175. AUM: 80532650000 (in USD).\n",
      "{'+175': 'positive one hundred and seventy-five', '80532650000': 'eighty billion, five hundred and thirty-two million, six hundred and fifty thousand'}\n",
      "\n"
     ]
    }
   ],
   "source": [
    "print('OUTPUT:')\n",
    "for i in results_dict:\n",
    "    for j in results_dict[i]:\n",
    "        print(results_dict[i][j])\n",
    "print('')\n",
    "print('')\n",
    "print('INPUTS & OUTPUTS FOR AUDITING:')\n",
    "\n",
    "for i in results_dict:\n",
    "    print(i)\n",
    "    print(results_dict[i])\n",
    "    print('')"
   ]
  },
  {
   "cell_type": "markdown",
   "metadata": {},
   "source": [
    "### Notes"
   ]
  },
  {
   "cell_type": "markdown",
   "metadata": {},
   "source": [
    "##### 1) For someone new to python/coding, I recommend the below solution.\n",
    "This one simply takes all text input, generates a list of words, identifies numbers (and invalid numbers), and produces outputs for them. It is using the same functions, but without the loop to keep things simpler."
   ]
  },
  {
   "cell_type": "code",
   "execution_count": 7,
   "metadata": {},
   "outputs": [],
   "source": [
    "# #remove '#' if you want to use this code\n",
    "# result(splitter(open(filename, 'r').read()))"
   ]
  },
  {
   "cell_type": "markdown",
   "metadata": {},
   "source": [
    "##### 2) If one needs output in txt file, below takes care of that.\n",
    "This code prints same output to txt file. If someone needs simpler outputs in a txt, it is easy from here, since the technique is all here."
   ]
  },
  {
   "cell_type": "code",
   "execution_count": 8,
   "metadata": {},
   "outputs": [],
   "source": [
    "# # to activate code: select all lines, and hit Ctrl + '/'\n",
    "\n",
    "# fh=open('Test output.txt','w')  # <<-- enter desired filename\n",
    "\n",
    "# print('OUTPUT:', file=fh)\n",
    "# for i in results_dict:\n",
    "#     for j in results_dict[i]:\n",
    "#         print(results_dict[i][j], file=fh)\n",
    "# print('', file=fh)\n",
    "# print('', file=fh)\n",
    "# print('INPUTS & OUTPUTS FOR AUDITING:', file=fh)\n",
    "\n",
    "# for i in results_dict:\n",
    "#     print(i, file=fh)\n",
    "#     print(results_dict[i], file=fh)\n",
    "#     print('', file=fh)\n",
    "# fh.close()"
   ]
  },
  {
   "cell_type": "markdown",
   "metadata": {},
   "source": [
    "##### 3) Potential further developments\n",
    "- Extending the code to deal with decimals, so we can generate outputs for floats.\n",
    "- Could use dataframes to put the inputs and outputs in nice tables."
   ]
  }
 ],
 "metadata": {
  "kernelspec": {
   "display_name": "Python 3",
   "language": "python",
   "name": "python3"
  },
  "language_info": {
   "codemirror_mode": {
    "name": "ipython",
    "version": 3
   },
   "file_extension": ".py",
   "mimetype": "text/x-python",
   "name": "python",
   "nbconvert_exporter": "python",
   "pygments_lexer": "ipython3",
   "version": "3.8.3"
  }
 },
 "nbformat": 4,
 "nbformat_minor": 4
}
